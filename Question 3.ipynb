{
 "cells": [
  {
   "cell_type": "code",
   "execution_count": 2,
   "metadata": {},
   "outputs": [
    {
     "data": {
      "text/plain": [
       "<sqlite3.Cursor at 0x25243c7b500>"
      ]
     },
     "execution_count": 2,
     "metadata": {},
     "output_type": "execute_result"
    }
   ],
   "source": [
    "import sqlite3\n",
    "con = sqlite3.connect('Books.db')\n",
    "cursorObj = con.cursor()\n",
    "cursorObj.execute(\"CREATE TABLE Book(BookID integar PRIMARY KEY, Booktitle text, BookAuthor text, Publisher text, Price integar, Pages integar)\")"
   ]
  },
  {
   "cell_type": "code",
   "execution_count": 4,
   "metadata": {},
   "outputs": [],
   "source": [
    "import sqlite3\n",
    "con = sqlite3.connect('Books.db')\n",
    "cursorObj = con.cursor()\n",
    "cursorObj.execute(\"INSERT INTO Book VALUES(1,'Godzila','Rizwan','SONY',600,579)\")\n",
    "cursorObj.execute(\"INSERT INTO Book VALUES(2,'Godzila_1','Bilal','SONY',500,5769)\")\n",
    "cursorObj.execute(\"INSERT INTO Book VALUES(3,'Godzila_2','Huzaifa','BLUE_BIRD',900,5679)\")\n",
    "cursorObj.execute(\"INSERT INTO Book VALUES(4,'Godzila_3','Osarim','SONY',600,5679)\")\n",
    "cursorObj.execute(\"INSERT INTO Book VALUES(5,'Godzila_4','Ahmed','SONY',600,5579)\")\n",
    "cursorObj.execute(\"INSERT INTO Book VALUES(6,'Godzila_5','Ali','AMAZON',700,4579)\")\n",
    "cursorObj.execute(\"INSERT INTO Book VALUES(7,'Godzila_6','Rizwan','SONY',1000,979)\")\n",
    "cursorObj.execute(\"INSERT INTO Book VALUES(8,'Godzila_7','Rizwan','AMAZON',1100,79)\")\n",
    "cursorObj.execute(\"INSERT INTO Book VALUES(9,'Godzila_8','Bilal','SONY',900,379)\")\n",
    "cursorObj.execute(\"INSERT INTO Book VALUES(10,'Godzila_9','Huzaifa','SONY',600,479)\")\n",
    "con.commit()"
   ]
  },
  {
   "cell_type": "code",
   "execution_count": 9,
   "metadata": {},
   "outputs": [
    {
     "name": "stdout",
     "output_type": "stream",
     "text": [
      "(1, 'Godzila', 'Rizwan', 'SONY', 600, 579)\n",
      "(2, 'Godzila_1', 'Bilal', 'SONY', 500, 5769)\n",
      "(3, 'Godzila_2', 'Huzaifa', 'BLUE_BIRD', 900, 5679)\n",
      "(4, 'Godzila_3', 'Osarim', 'SONY', 600, 5679)\n",
      "(5, 'Godzila_4', 'Ahmed', 'SONY', 600, 5579)\n",
      "(6, 'Godzila_5', 'Ali', 'AMAZON', 700, 4579)\n",
      "(7, 'Godzila_6', 'Rizwan', 'SONY', 1000, 979)\n",
      "(8, 'Godzila_7', 'Rizwan', 'AMAZON', 1100, 79)\n",
      "(9, 'Godzila_8', 'Bilal', 'SONY', 900, 379)\n",
      "(10, 'Godzila_9', 'Huzaifa', 'SONY', 600, 479)\n"
     ]
    }
   ],
   "source": [
    "import sqlite3\n",
    "con = sqlite3.connect('Books.db')\n",
    "cursorObj = con.cursor()\n",
    "cursorObj.execute(\"SELECT * FROM Book\")\n",
    "rows = cursorObj.fetchall()\n",
    "for row in rows:\n",
    "    print(row)\n",
    "con.commit()"
   ]
  },
  {
   "cell_type": "code",
   "execution_count": 10,
   "metadata": {},
   "outputs": [
    {
     "name": "stdout",
     "output_type": "stream",
     "text": [
      "('Rizwan',)\n"
     ]
    }
   ],
   "source": [
    "import sqlite3\n",
    "con = sqlite3.connect('Books.db')\n",
    "cursorObj = con.cursor()\n",
    "cursorObj.execute(\"SELECT BookAuthor FROM Book WHERE BookID = 8 \")\n",
    "rows = cursorObj.fetchall()\n",
    "for row in rows:\n",
    "    print(row)\n",
    "con.commit()"
   ]
  },
  {
   "cell_type": "code",
   "execution_count": 11,
   "metadata": {},
   "outputs": [
    {
     "name": "stdout",
     "output_type": "stream",
     "text": [
      "(1100,)\n"
     ]
    }
   ],
   "source": [
    "import sqlite3\n",
    "con = sqlite3.connect('Books.db')\n",
    "cursorObj = con.cursor()\n",
    "cursorObj.execute(\"SELECT Price FROM Book WHERE BookID = 8 \")\n",
    "rows = cursorObj.fetchall()\n",
    "for row in rows:\n",
    "    print(row)\n",
    "con.commit()"
   ]
  },
  {
   "cell_type": "code",
   "execution_count": 12,
   "metadata": {},
   "outputs": [
    {
     "name": "stdout",
     "output_type": "stream",
     "text": [
      "('Rizwan',)\n"
     ]
    }
   ],
   "source": [
    "import sqlite3\n",
    "con = sqlite3.connect('Books.db')\n",
    "cursorObj = con.cursor()\n",
    "cursorObj.execute(\"SELECT BookAuthor FROM Book WHERE Price = 1000 \")\n",
    "rows = cursorObj.fetchall()\n",
    "for row in rows:\n",
    "    print(row)\n",
    "con.commit()"
   ]
  },
  {
   "cell_type": "code",
   "execution_count": 44,
   "metadata": {},
   "outputs": [
    {
     "name": "stdout",
     "output_type": "stream",
     "text": [
      "(1, 'Godzila', 'Rizwan', 'SONY', 600, 579)\n",
      "(2, 'Godzila_1', 'Bilal', 'SONY', 500, 5769)\n",
      "(3, 'Godzila_2', 'Huzaifa', 'BLUE_BIRD', 900, 5679)\n",
      "(4, 'Godzila_3', 'Osarim', 'SONY', 600, 5679)\n",
      "(5, 'Godzila_4', 'Ahmed', 'SONY', 600, 5579)\n",
      "(6, 'Godzila_5', 'Ali', 'AMAZON', 700, 4579)\n",
      "(7, 'Godzila_6', 'Rizwan', 'SONY', 1000, 979)\n",
      "(8, 'Godzila_7', 'Rizwan', 'AMAZON', 1100, 79)\n",
      "(9, 'Godzila_8', 'Bilal', 'SONY', 900, 379)\n",
      "(10, 'Godzila_9', 'Huzaifa', 'SONY', 600, 479)\n",
      "('Rizwan',)\n",
      "('Bilal',)\n",
      "('Huzaifa',)\n",
      "('Osarim',)\n",
      "('Ahmed',)\n",
      "('Ali',)\n",
      "('Rizwan',)\n",
      "('Rizwan',)\n",
      "('Bilal',)\n",
      "('Huzaifa',)\n",
      "(1100,)\n",
      "(7,)\n"
     ]
    }
   ],
   "source": [
    "import tkinter\n",
    "from tkinter import font as font\n",
    "window = tkinter.Tk()\n",
    "window.geometry('700x400')\n",
    "myfont1 = font.Font(family='Helvetica', size = 20)\n",
    "window.title('MY BOOK SHOP')\n",
    "\n",
    "label = tkinter.Label(text = '       ').pack()\n",
    "\n",
    "label1 = tkinter.Label(text = 'MY BOOK SHOP', bg = 'Purple', fg = 'white')\n",
    "label1['font']=myfont1\n",
    "label1.pack(fill = 'x')\n",
    "\n",
    "label3 = tkinter.Label(text = '       ').pack()\n",
    "\n",
    "def selectall():\n",
    "    import sqlite3\n",
    "    con = sqlite3.connect('Books.db')\n",
    "    cursorObj = con.cursor()\n",
    "    cursorObj.execute(\"SELECT * FROM Book\")\n",
    "    rows = cursorObj.fetchall()\n",
    "    for row in rows:\n",
    "        print(row)\n",
    "    con.commit()\n",
    "btn1 = tkinter.Button(window, text = 'SELECT ALL', fg = 'Blue', command = selectall)\n",
    "btn1['font'] = myfont1\n",
    "btn1.pack()\n",
    "\n",
    "label4 = tkinter.Label(text = '       ').pack()\n",
    "\n",
    "def bookauthor():\n",
    "    import sqlite3\n",
    "    con = sqlite3.connect('Books.db')\n",
    "    cursorObj = con.cursor()\n",
    "    cursorObj.execute(\"SELECT BookAuthor FROM Book\")\n",
    "    rows1 = cursorObj.fetchall()\n",
    "    for row1 in rows1:\n",
    "        print(row1)\n",
    "    con.commit()\n",
    "btn2 = tkinter.Button(window, text = 'Book  Author', fg = 'Blue', command =bookauthor)\n",
    "btn2['font'] = myfont1\n",
    "btn2.pack()\n",
    "\n",
    "label5 = tkinter.Label(text = '       ').pack()\n",
    "\n",
    "def specific():\n",
    "    import sqlite3\n",
    "    con = sqlite3.connect('Books.db')\n",
    "    cursorObj = con.cursor()\n",
    "    cursorObj.execute(\"SELECT Price FROM Book WHERE BookID = 8 \")\n",
    "    rows2 = cursorObj.fetchall()\n",
    "    for row2 in rows2:\n",
    "        print(row2)\n",
    "    con.commit()\n",
    "btn3 = tkinter.Button(window, text = 'SpecificValue', fg = 'Blue', command =specific)\n",
    "btn3['font'] = myfont1\n",
    "btn3.pack()\n",
    "\n",
    "label6 = tkinter.Label(text = '       ').pack()\n",
    "\n",
    "def specific1():\n",
    "    import sqlite3\n",
    "    con = sqlite3.connect('Books.db')\n",
    "    cursorObj = con.cursor()\n",
    "    cursorObj.execute(\"SELECT BookID FROM Book WHERE BookID = 7 \")\n",
    "    rows2 = cursorObj.fetchall()\n",
    "    for row2 in rows2:\n",
    "        print(row2)\n",
    "    con.commit()\n",
    "btn4 = tkinter.Button(window, text = 'SpecificValue', fg = 'Blue', command =specific1)\n",
    "btn4['font'] = myfont1\n",
    "btn4.pack()\n",
    "    \n",
    "window.mainloop()"
   ]
  },
  {
   "cell_type": "code",
   "execution_count": null,
   "metadata": {},
   "outputs": [],
   "source": []
  }
 ],
 "metadata": {
  "kernelspec": {
   "display_name": "Python 3",
   "language": "python",
   "name": "python3"
  },
  "language_info": {
   "codemirror_mode": {
    "name": "ipython",
    "version": 3
   },
   "file_extension": ".py",
   "mimetype": "text/x-python",
   "name": "python",
   "nbconvert_exporter": "python",
   "pygments_lexer": "ipython3",
   "version": "3.7.4"
  }
 },
 "nbformat": 4,
 "nbformat_minor": 2
}
