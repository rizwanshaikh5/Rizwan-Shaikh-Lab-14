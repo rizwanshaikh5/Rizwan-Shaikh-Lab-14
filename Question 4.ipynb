{
 "cells": [
  {
   "cell_type": "code",
   "execution_count": 1,
   "metadata": {},
   "outputs": [
    {
     "name": "stdout",
     "output_type": "stream",
     "text": [
      "(1, 'Rizwan')\n",
      "(2, 'Bilal')\n",
      "(3, 'Huzaifa')\n",
      "(4, 'Osarim')\n",
      "(5, 'Ahmed')\n",
      "(6, 'Ali')\n",
      "(7, 'Rizwan')\n",
      "(8, 'Rizwan')\n",
      "(9, 'Bilal')\n",
      "(10, 'Huzaifa')\n"
     ]
    }
   ],
   "source": [
    "#SELECT\n",
    "import sqlite3\n",
    "con = sqlite3.connect('Books.db')\n",
    "cursorObj = con.cursor()\n",
    "cursorObj.execute(\"SELECT BookID, BookAuthor FROM Book\")\n",
    "rows = cursorObj.fetchall()\n",
    "for row in rows:\n",
    "    print(row)\n",
    "con.commit()"
   ]
  },
  {
   "cell_type": "code",
   "execution_count": 3,
   "metadata": {},
   "outputs": [
    {
     "name": "stdout",
     "output_type": "stream",
     "text": [
      "(600,)\n",
      "(1000,)\n",
      "(1100,)\n"
     ]
    }
   ],
   "source": [
    "#WHERE\n",
    "import sqlite3\n",
    "con = sqlite3.connect('Books.db')\n",
    "cursorObj = con.cursor()\n",
    "cursorObj.execute(\"SELECT Price FROM Book WHERE BookAuthor = 'Rizwan'\")\n",
    "rows = cursorObj.fetchall()\n",
    "for row in rows:\n",
    "    print(row)\n",
    "con.commit()"
   ]
  },
  {
   "cell_type": "code",
   "execution_count": 7,
   "metadata": {},
   "outputs": [
    {
     "name": "stdout",
     "output_type": "stream",
     "text": [
      "(2, 'Godzila_1', 'Bilal', 'SONY', 500, 5769)\n",
      "(1, 'Godzila', 'Rizwan', 'SONY', 600, 579)\n",
      "(4, 'Godzila_3', 'Osarim', 'SONY', 600, 5679)\n",
      "(5, 'Godzila_4', 'Ahmed', 'SONY', 600, 5579)\n",
      "(10, 'Godzila_9', 'Huzaifa', 'SONY', 600, 479)\n",
      "(6, 'Godzila_5', 'Ali', 'AMAZON', 700, 4579)\n",
      "(3, 'Godzila_2', 'Huzaifa', 'BLUE_BIRD', 900, 5679)\n",
      "(9, 'Godzila_8', 'Bilal', 'SONY', 900, 379)\n",
      "(7, 'Godzila_6', 'Rizwan', 'SONY', 1000, 979)\n",
      "(8, 'Godzila_7', 'Rizwan', 'AMAZON', 1100, 79)\n"
     ]
    }
   ],
   "source": [
    "#OREDRBY\n",
    "import sqlite3\n",
    "con = sqlite3.connect('Books.db')\n",
    "cursorObj = con.cursor()\n",
    "cursorObj.execute(\"SELECT * FROM Book ORDER BY Price\")\n",
    "rows = cursorObj.fetchall()\n",
    "for row in rows:\n",
    "    print(row)\n",
    "con.commit()"
   ]
  },
  {
   "cell_type": "code",
   "execution_count": 9,
   "metadata": {},
   "outputs": [
    {
     "name": "stdout",
     "output_type": "stream",
     "text": [
      "(2, 'Godzila_1', 'Bilal', 'SONY', 500, 5769)\n",
      "(1, 'Godzila', 'Rizwan', 'SONY', 600, 579)\n",
      "(6, 'Godzila_5', 'Ali', 'AMAZON', 700, 4579)\n",
      "(3, 'Godzila_2', 'Huzaifa', 'BLUE_BIRD', 900, 5679)\n",
      "(7, 'Godzila_6', 'Rizwan', 'SONY', 1000, 979)\n",
      "(8, 'Godzila_7', 'Rizwan', 'AMAZON', 1100, 79)\n"
     ]
    }
   ],
   "source": [
    "#GROUPBY\n",
    "import sqlite3\n",
    "con = sqlite3.connect('Books.db')\n",
    "cursorObj = con.cursor()\n",
    "cursorObj.execute(\"SELECT * FROM Book GROUP BY Price\")\n",
    "rows = cursorObj.fetchall()\n",
    "for row in rows:\n",
    "    print(row)\n",
    "con.commit()"
   ]
  }
 ],
 "metadata": {
  "kernelspec": {
   "display_name": "Python 3",
   "language": "python",
   "name": "python3"
  },
  "language_info": {
   "codemirror_mode": {
    "name": "ipython",
    "version": 3
   },
   "file_extension": ".py",
   "mimetype": "text/x-python",
   "name": "python",
   "nbconvert_exporter": "python",
   "pygments_lexer": "ipython3",
   "version": "3.7.4"
  }
 },
 "nbformat": 4,
 "nbformat_minor": 2
}
